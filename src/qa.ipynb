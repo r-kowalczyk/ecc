{
 "cells": [
  {
   "cell_type": "markdown",
   "metadata": {},
   "source": [
    "# Quality assurance / sanity checks"
   ]
  },
  {
   "cell_type": "code",
   "execution_count": null,
   "metadata": {},
   "outputs": [],
   "source": [
    "from pyprojroot import here\n",
    "import pandas as pd"
   ]
  },
  {
   "cell_type": "markdown",
   "metadata": {},
   "source": [
    "### Checking that the ground truth doesn't include any NON- drug-disease pairs"
   ]
  },
  {
   "cell_type": "code",
   "execution_count": 5,
   "metadata": {},
   "outputs": [
    {
     "name": "stdout",
     "output_type": "stream",
     "text": [
      "Number of invalid rows: 0\n"
     ]
    }
   ],
   "source": [
    "# Define the root folder using pyprojroot\n",
    "ROOT_FOLDER = here()\n",
    "\n",
    "# Step 1: Read the CSV files\n",
    "nodes_df = pd.read_csv(f'{ROOT_FOLDER}/data/original/Nodes.csv')\n",
    "ground_truth_df = pd.read_csv(f'{ROOT_FOLDER}/data/original/Ground Truth.csv')\n",
    "\n",
    "# Merge the 'source' information\n",
    "source_merge = pd.merge(\n",
    "    ground_truth_df, \n",
    "    nodes_df[['id', 'name', 'category']],  # selecting only the needed columns\n",
    "    how='left',\n",
    "    left_on='source', \n",
    "    right_on='id'\n",
    ")\n",
    "\n",
    "# Rename the columns to reflect that they are for the source node\n",
    "source_merge = source_merge.rename(\n",
    "    columns={\n",
    "        'name': 'source_name',\n",
    "        'category': 'source_category'\n",
    "    }\n",
    ")\n",
    "\n",
    "# Drop the extra 'id' column that came from nodes_df\n",
    "source_merge = source_merge.drop(columns=['id'])\n",
    "\n",
    "# Merge the 'target' information\n",
    "final_df = pd.merge(\n",
    "    source_merge, \n",
    "    nodes_df[['id', 'name', 'category']],\n",
    "    how='left',\n",
    "    left_on='target', \n",
    "    right_on='id'\n",
    ")\n",
    "\n",
    "# Rename the columns to indicate that these attributes are for the target node\n",
    "final_df = final_df.rename(\n",
    "    columns={\n",
    "        'name': 'target_name',\n",
    "        'category': 'target_category'\n",
    "    }\n",
    ")\n",
    "\n",
    "# Drop the extra 'id' column from the second merge\n",
    "final_df = final_df.drop(columns=['id'])\n",
    "\n",
    "# Filter rows based on allowed categories\n",
    "\n",
    "# List of allowed categories\n",
    "allowed_categories = {\n",
    "    'biolink:Disease',\n",
    "    'biolink:Drug',\n",
    "    'biolink:DiseaseOrPhenotypicFeature',\n",
    "    'biolink:SmallMolecule',\n",
    "    'biolink:PhenotypicFeature'\n",
    "}\n",
    "\n",
    "# Identify rows where either the source_category or target_category is NOT allowed\n",
    "invalid_mask = (\n",
    "    ~final_df['source_category'].isin(allowed_categories) |\n",
    "    ~final_df['target_category'].isin(allowed_categories)\n",
    ")\n",
    "\n",
    "# Create two separate dataframes:\n",
    "# 1. Valid rows (where both categories are allowed)\n",
    "# 2. Rows that are filtered out (where at least one category is not allowed)\n",
    "df_valid = final_df[~invalid_mask]\n",
    "df_invalid = final_df[invalid_mask]\n",
    "\n",
    "# Check the number of invalid rows\n",
    "print(f\"Number of invalid rows: {df_invalid.shape[0]}\")\n",
    "\n",
    "# Save the results to CSV files\n",
    "df_valid.to_csv(\"filtered_valid.csv\", index=False)\n",
    "df_invalid.to_csv(\"filtered_invalid.csv\", index=False)"
   ]
  }
 ],
 "metadata": {
  "kernelspec": {
   "display_name": "appeals",
   "language": "python",
   "name": "python3"
  },
  "language_info": {
   "codemirror_mode": {
    "name": "ipython",
    "version": 3
   },
   "file_extension": ".py",
   "mimetype": "text/x-python",
   "name": "python",
   "nbconvert_exporter": "python",
   "pygments_lexer": "ipython3",
   "version": "3.12.8"
  }
 },
 "nbformat": 4,
 "nbformat_minor": 2
}
